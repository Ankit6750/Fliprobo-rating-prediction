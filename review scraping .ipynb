{
 "cells": [
  {
   "cell_type": "code",
   "execution_count": 1,
   "id": "0a5acdb7",
   "metadata": {},
   "outputs": [],
   "source": [
    "# impotr required library\n",
    "import pandas as pd\n",
    "import time\n",
    "import selenium\n",
    "from selenium import webdriver\n",
    "from selenium.common.exceptions import NoSuchElementException\n",
    "from selenium.webdriver.common.keys import Keys\n",
    "from selenium.webdriver.support.ui import WebDriverWait\n",
    "from selenium.webdriver.common.by import By"
   ]
  },
  {
   "cell_type": "code",
   "execution_count": 6,
   "id": "4e6b5ecb",
   "metadata": {},
   "outputs": [],
   "source": [
    "# loading chrome by automated\n",
    "dr1=webdriver.Chrome(r'F:\\Python\\chromedriver.exe')"
   ]
  },
  {
   "cell_type": "markdown",
   "id": "8f73b8f0",
   "metadata": {},
   "source": [
    "### Scarping reviews from flipkart"
   ]
  },
  {
   "cell_type": "code",
   "execution_count": 7,
   "id": "e16d7fc5",
   "metadata": {},
   "outputs": [],
   "source": [
    "# load wensite\n",
    "url='https://www.flipkart.com/'\n",
    "dr1.get(url)"
   ]
  },
  {
   "cell_type": "code",
   "execution_count": 8,
   "id": "02e89c92",
   "metadata": {},
   "outputs": [],
   "source": [
    "dr1.maximize_window()"
   ]
  },
  {
   "cell_type": "code",
   "execution_count": 9,
   "id": "d80f02f5",
   "metadata": {},
   "outputs": [],
   "source": [
    "# close login window\n",
    "dr1.find_element_by_xpath(\"//div[@class='_2QfC02']/button\").click()"
   ]
  },
  {
   "cell_type": "code",
   "execution_count": 10,
   "id": "59391e9c",
   "metadata": {},
   "outputs": [],
   "source": [
    "#create list of product\n",
    "product=['phones','laptops','smart watches','moniters']\n",
    "urls=[]"
   ]
  },
  {
   "cell_type": "code",
   "execution_count": 11,
   "id": "2ffbf935",
   "metadata": {},
   "outputs": [],
   "source": [
    "# Run for loop for fetching all produccts urls\n",
    "for i in product:\n",
    "    search=dr1.find_element_by_xpath('//div[@class=\"_3OO5Xc\"]/input') # search products\n",
    "    search.send_keys(Keys.CONTROL,'a')\n",
    "    search.send_keys(Keys.BACKSPACE)\n",
    "    search.send_keys(i)\n",
    "    dr1.find_element_by_xpath(\"//button[@class='L0Z3Pu']\").click()\n",
    "    time.sleep(3)\n",
    "    pages=[]\n",
    "    for i in dr1.find_elements_by_xpath('//nav[@class=\"yFHi8N\"]/a'): # getting urls of 4 pages\n",
    "        pages.append(i.get_attribute('href'))\n",
    "    for i in pages[0:4]:\n",
    "        dr1.get(i)\n",
    "        time.sleep(2)\n",
    "        link=dr1.find_elements_by_xpath(\"//a[@class='_1fQZEK']\") #get 4 pages product links \n",
    "        for i in link:\n",
    "            urls.append(i.get_attribute('href'))\n",
    "        time.sleep(2)    "
   ]
  },
  {
   "cell_type": "code",
   "execution_count": 12,
   "id": "d375610e",
   "metadata": {},
   "outputs": [
    {
     "data": {
      "text/plain": [
       "384"
      ]
     },
     "execution_count": 12,
     "metadata": {},
     "output_type": "execute_result"
    }
   ],
   "source": [
    "len(urls)"
   ]
  },
  {
   "cell_type": "code",
   "execution_count": 13,
   "id": "8f3e8cf9",
   "metadata": {},
   "outputs": [],
   "source": [
    "rating=[]\n",
    "review=[]\n",
    "review_comments=[]"
   ]
  },
  {
   "cell_type": "code",
   "execution_count": 14,
   "id": "57be40c5",
   "metadata": {},
   "outputs": [],
   "source": [
    "# scraping function for reviews,rating,comments\n",
    "def scrap():    \n",
    "        for i in dr1.find_elements_by_xpath(\"//div[@class='t-ZTKy']\"):\n",
    "            review_comments.append(i.text)\n",
    "        for i in dr1.find_elements_by_xpath(\"//p[@class='_2-N8zT']\"):\n",
    "            review.append(i.text)\n",
    "        for i in dr1.find_elements_by_xpath(\"//p[@class='_2-N8zT']/../div\"):\n",
    "            rating.append(i.text)\n",
    "        return"
   ]
  },
  {
   "cell_type": "code",
   "execution_count": 15,
   "id": "c2ad2fe8",
   "metadata": {},
   "outputs": [],
   "source": [
    "# run for loop for fetching details from product urls\n",
    "for i in urls:\n",
    "    dr1.get(i)\n",
    "    time.sleep(2)\n",
    "    for i in range(2):\n",
    "        dr1.execute_script(\"window.scrollBy(0,6000)\")  # scroll down\n",
    "        time.sleep(2)\n",
    "        #clicking on all reviews\n",
    "    try:\n",
    "        btn=dr1.find_element_by_xpath(\"//div[@class='_2c2kV-']/following::a\") # get review from front page\n",
    "        lnk = btn.get_attribute('href')\n",
    "        dr1.get(lnk)\n",
    "        time.sleep(4)\n",
    "    except NoSuchElementException:\n",
    "        pass\n",
    "\n",
    "    scrap()        \n",
    "    try:\n",
    "        n_page=dr1.find_elements_by_xpath(\"//nav[@class='yFHi8N']/a\") # get review from multiple pages\n",
    "        np=[]\n",
    "        for i in n_page:\n",
    "            np.append(i.get_attribute('href'))\n",
    "        for i in np[0:10]:\n",
    "            dr1.get(i)\n",
    "            time.sleep(5)\n",
    "            scrap()\n",
    "    except: continue"
   ]
  },
  {
   "cell_type": "code",
   "execution_count": 16,
   "id": "c25fc7f5",
   "metadata": {},
   "outputs": [
    {
     "data": {
      "text/plain": [
       "(29873, 29873, 29873)"
      ]
     },
     "execution_count": 16,
     "metadata": {},
     "output_type": "execute_result"
    }
   ],
   "source": [
    "len(rating),len(review),len(review_comments)"
   ]
  },
  {
   "cell_type": "code",
   "execution_count": 17,
   "id": "c4a89c1a",
   "metadata": {},
   "outputs": [],
   "source": [
    "# make data frame\n",
    "df1=pd.DataFrame({'review_title':review,'review_comments':review_comments,'rating':rating})"
   ]
  },
  {
   "cell_type": "code",
   "execution_count": 18,
   "id": "09433290",
   "metadata": {},
   "outputs": [
    {
     "data": {
      "text/html": [
       "<div>\n",
       "<style scoped>\n",
       "    .dataframe tbody tr th:only-of-type {\n",
       "        vertical-align: middle;\n",
       "    }\n",
       "\n",
       "    .dataframe tbody tr th {\n",
       "        vertical-align: top;\n",
       "    }\n",
       "\n",
       "    .dataframe thead th {\n",
       "        text-align: right;\n",
       "    }\n",
       "</style>\n",
       "<table border=\"1\" class=\"dataframe\">\n",
       "  <thead>\n",
       "    <tr style=\"text-align: right;\">\n",
       "      <th></th>\n",
       "      <th>review_title</th>\n",
       "      <th>review_comments</th>\n",
       "      <th>rating</th>\n",
       "    </tr>\n",
       "  </thead>\n",
       "  <tbody>\n",
       "    <tr>\n",
       "      <th>0</th>\n",
       "      <td>Very Good</td>\n",
       "      <td>Thanks again Flipkart team the wonderful deliv...</td>\n",
       "      <td>4</td>\n",
       "    </tr>\n",
       "    <tr>\n",
       "      <th>1</th>\n",
       "      <td>Terrific</td>\n",
       "      <td>Very nice mobile and battry is very extra powa...</td>\n",
       "      <td>5</td>\n",
       "    </tr>\n",
       "    <tr>\n",
       "      <th>2</th>\n",
       "      <td>Terrific purchase</td>\n",
       "      <td>Camera 4/5 if u able to set it properly\\nBatte...</td>\n",
       "      <td>5</td>\n",
       "    </tr>\n",
       "    <tr>\n",
       "      <th>3</th>\n",
       "      <td>Good choice</td>\n",
       "      <td>Positive sides :\\n1. Battery is very very powe...</td>\n",
       "      <td>4</td>\n",
       "    </tr>\n",
       "    <tr>\n",
       "      <th>4</th>\n",
       "      <td>Fantastic</td>\n",
       "      <td>Excellent!!\\nVery good mobile. I ordered it to...</td>\n",
       "      <td>5</td>\n",
       "    </tr>\n",
       "    <tr>\n",
       "      <th>5</th>\n",
       "      <td>Best in the market!</td>\n",
       "      <td>Best phone of this best valuable price..\\nI th...</td>\n",
       "      <td>5</td>\n",
       "    </tr>\n",
       "    <tr>\n",
       "      <th>6</th>\n",
       "      <td>Fabulous!</td>\n",
       "      <td>Best phone superb design and colour and perfor...</td>\n",
       "      <td>5</td>\n",
       "    </tr>\n",
       "    <tr>\n",
       "      <th>7</th>\n",
       "      <td>Nice product</td>\n",
       "      <td>I bought it as a secondary device but was surp...</td>\n",
       "      <td>4</td>\n",
       "    </tr>\n",
       "    <tr>\n",
       "      <th>8</th>\n",
       "      <td>Good choice</td>\n",
       "      <td>It is a decent budgeted smart phone and main p...</td>\n",
       "      <td>4</td>\n",
       "    </tr>\n",
       "    <tr>\n",
       "      <th>9</th>\n",
       "      <td>Decent product</td>\n",
       "      <td>Display could have FHD....camera is ok.\\nRest ...</td>\n",
       "      <td>3</td>\n",
       "    </tr>\n",
       "    <tr>\n",
       "      <th>10</th>\n",
       "      <td>Very Good</td>\n",
       "      <td>Thanks again Flipkart team the wonderful deliv...</td>\n",
       "      <td>4</td>\n",
       "    </tr>\n",
       "    <tr>\n",
       "      <th>11</th>\n",
       "      <td>Terrific</td>\n",
       "      <td>Very nice mobile and battry is very extra powa...</td>\n",
       "      <td>5</td>\n",
       "    </tr>\n",
       "    <tr>\n",
       "      <th>12</th>\n",
       "      <td>Terrific purchase</td>\n",
       "      <td>Camera 4/5 if u able to set it properly\\nBatte...</td>\n",
       "      <td>5</td>\n",
       "    </tr>\n",
       "    <tr>\n",
       "      <th>13</th>\n",
       "      <td>Good choice</td>\n",
       "      <td>Positive sides :\\n1. Battery is very very powe...</td>\n",
       "      <td>4</td>\n",
       "    </tr>\n",
       "    <tr>\n",
       "      <th>14</th>\n",
       "      <td>Fantastic</td>\n",
       "      <td>Excellent!!\\nVery good mobile. I ordered it to...</td>\n",
       "      <td>5</td>\n",
       "    </tr>\n",
       "  </tbody>\n",
       "</table>\n",
       "</div>"
      ],
      "text/plain": [
       "           review_title                                    review_comments  \\\n",
       "0             Very Good  Thanks again Flipkart team the wonderful deliv...   \n",
       "1              Terrific  Very nice mobile and battry is very extra powa...   \n",
       "2     Terrific purchase  Camera 4/5 if u able to set it properly\\nBatte...   \n",
       "3           Good choice  Positive sides :\\n1. Battery is very very powe...   \n",
       "4             Fantastic  Excellent!!\\nVery good mobile. I ordered it to...   \n",
       "5   Best in the market!  Best phone of this best valuable price..\\nI th...   \n",
       "6             Fabulous!  Best phone superb design and colour and perfor...   \n",
       "7          Nice product  I bought it as a secondary device but was surp...   \n",
       "8           Good choice  It is a decent budgeted smart phone and main p...   \n",
       "9        Decent product  Display could have FHD....camera is ok.\\nRest ...   \n",
       "10            Very Good  Thanks again Flipkart team the wonderful deliv...   \n",
       "11             Terrific  Very nice mobile and battry is very extra powa...   \n",
       "12    Terrific purchase  Camera 4/5 if u able to set it properly\\nBatte...   \n",
       "13          Good choice  Positive sides :\\n1. Battery is very very powe...   \n",
       "14            Fantastic  Excellent!!\\nVery good mobile. I ordered it to...   \n",
       "\n",
       "   rating  \n",
       "0       4  \n",
       "1       5  \n",
       "2       5  \n",
       "3       4  \n",
       "4       5  \n",
       "5       5  \n",
       "6       5  \n",
       "7       4  \n",
       "8       4  \n",
       "9       3  \n",
       "10      4  \n",
       "11      5  \n",
       "12      5  \n",
       "13      4  \n",
       "14      5  "
      ]
     },
     "execution_count": 18,
     "metadata": {},
     "output_type": "execute_result"
    }
   ],
   "source": [
    "df1.head(15)"
   ]
  },
  {
   "cell_type": "code",
   "execution_count": 81,
   "id": "3064fe83",
   "metadata": {},
   "outputs": [],
   "source": [
    "# for amazon rating //div[@class='a-section review aok-relative']/div/div/div[2]/a[1]//span\n",
    "# for review title //div[@class='a-section review aok-relative']/div/div/div[2]/a[2]//span\n",
    "# for review comment //div[@class='a-section review aok-relative']/div/div/div[4]/span"
   ]
  },
  {
   "cell_type": "markdown",
   "id": "b06b70b3",
   "metadata": {},
   "source": [
    "### scrape data from amazon"
   ]
  },
  {
   "cell_type": "code",
   "execution_count": 40,
   "id": "d7976dea",
   "metadata": {},
   "outputs": [],
   "source": [
    "# load webdriver\n",
    "dr2=webdriver.Chrome(r'F:\\Python\\chromedriver.exe')\n",
    "url2='https://www.amazon.in/'\n",
    "dr2.get(url2)"
   ]
  },
  {
   "cell_type": "code",
   "execution_count": 41,
   "id": "2e2fadc7",
   "metadata": {},
   "outputs": [],
   "source": [
    "# maximize window\n",
    "dr2.maximize_window()"
   ]
  },
  {
   "cell_type": "code",
   "execution_count": 42,
   "id": "46b66433",
   "metadata": {},
   "outputs": [],
   "source": [
    "# product list\n",
    "items=['laptops','phones','headphones','smart watches', 'Professional Cameras', 'Printers', 'Monitors', 'Home theater', 'Router']\n",
    "urls2=[]"
   ]
  },
  {
   "cell_type": "code",
   "execution_count": 49,
   "id": "44189dde",
   "metadata": {},
   "outputs": [],
   "source": [
    "for i in items:\n",
    "    time.sleep(1)\n",
    "    search=dr2.find_element_by_id('twotabsearchtextbox') # search items\n",
    "    search.send_keys(Keys.CONTROL,'a')\n",
    "    search.send_keys(Keys.BACKSPACE)\n",
    "    search.send_keys(i)\n",
    "    dr2.find_element_by_id(\"nav-search-submit-text\").click()\n",
    "    time.sleep(2)\n",
    "    start=0\n",
    "    end=4\n",
    "    for page in range(start,end):                                #for loop for scrapping 5 pages\n",
    "        time.sleep(3)\n",
    "        link=dr2.find_elements_by_xpath(\"//h2[@class='a-size-mini a-spacing-none a-color-base s-line-clamp-2']/a\")\n",
    "        for i in link:\n",
    "            urls2.append(i.get_attribute('href'))               # get links of products\n",
    "        dr2.execute_script(\"window.scrollBy(0,1000)\")\n",
    "        time.sleep(5)                                                                                            # //li[@class='a-last']/./a\n",
    "        nxt_button=dr2.find_element_by_xpath(\"//li[@class='a-last']/./a\")     #scraping the list of buttons from the page\n",
    "        nxt_button.click()\n",
    "        time.sleep(3)"
   ]
  },
  {
   "cell_type": "code",
   "execution_count": 50,
   "id": "1fbefdcd",
   "metadata": {},
   "outputs": [
    {
     "data": {
      "text/plain": [
       "(801,)"
      ]
     },
     "execution_count": 50,
     "metadata": {},
     "output_type": "execute_result"
    }
   ],
   "source": [
    "len(urls2),#urls2.clear()"
   ]
  },
  {
   "cell_type": "code",
   "execution_count": 51,
   "id": "d44c4a0b",
   "metadata": {},
   "outputs": [],
   "source": [
    "rating1=[]\n",
    "review1=[]\n",
    "review_comment1=[]"
   ]
  },
  {
   "cell_type": "code",
   "execution_count": 52,
   "id": "a2344ba9",
   "metadata": {},
   "outputs": [],
   "source": [
    "#sraping function\n",
    "def scrap2():\n",
    "    for i in dr2.find_elements_by_xpath(\"//div[@class='a-section review aok-relative']/div/div/div[2]/a[1]//span[1]\"):\n",
    "        rating1.append(i.get_attribute('innerHTML'))\n",
    "    for i in dr2.find_elements_by_xpath(\"//div[@class='a-section review aok-relative']/div/div/div[4]/span[1]\"):\n",
    "        review_comment1.append(i.text)\n",
    "    for i in dr2.find_elements_by_xpath(\"//div[@class='a-section review aok-relative']/div/div/div[2]/a[2]//span[1]\"):\n",
    "        review1.append(i.text)\n",
    "    return"
   ]
  },
  {
   "cell_type": "code",
   "execution_count": 59,
   "id": "0aa9c119",
   "metadata": {},
   "outputs": [],
   "source": [
    "for i in urls2:\n",
    "    dr2.get(i)\n",
    "    time.sleep(2)\n",
    "    dr2.execute_script('window.scrollBy(0,7000)')\n",
    "    time.sleep(2)\n",
    "    try:\n",
    "        btn=dr2.find_element_by_xpath(\"//a[@class='a-link-emphasis a-text-bold']\")\n",
    "        btn.click()\n",
    "        time.sleep(3)\n",
    "        scrap2()\n",
    "        time.sleep(3)\n",
    "    except NoSuchElementException:\n",
    "        pass\n",
    "    dr2.execute_script('window.scrollBy(0,6000)')\n",
    "    time.sleep(4)"
   ]
  },
  {
   "cell_type": "code",
   "execution_count": 60,
   "id": "0679b0f5",
   "metadata": {},
   "outputs": [
    {
     "data": {
      "text/plain": [
       "(5668, 5668, 5763)"
      ]
     },
     "execution_count": 60,
     "metadata": {},
     "output_type": "execute_result"
    }
   ],
   "source": [
    "len(rating1),len(review1),len(review_comment1)"
   ]
  },
  {
   "cell_type": "code",
   "execution_count": 58,
   "id": "5f6a1cb8",
   "metadata": {},
   "outputs": [
    {
     "data": {
      "text/plain": [
       "(None, None, None)"
      ]
     },
     "execution_count": 58,
     "metadata": {},
     "output_type": "execute_result"
    }
   ],
   "source": [
    "#rating1.clear(),review1.clear(),review_comment1.clear()"
   ]
  },
  {
   "cell_type": "code",
   "execution_count": 61,
   "id": "0d85d4bc",
   "metadata": {},
   "outputs": [
    {
     "data": {
      "text/plain": [
       "5668"
      ]
     },
     "execution_count": 61,
     "metadata": {},
     "output_type": "execute_result"
    }
   ],
   "source": [
    "r1=review_comment1[0:5668]\n",
    "len(r1)"
   ]
  },
  {
   "cell_type": "code",
   "execution_count": 63,
   "id": "77141dd1",
   "metadata": {},
   "outputs": [],
   "source": [
    "# make data frame\n",
    "df2=pd.DataFrame({'review_title':review1,'review_comments':r1,'rating':rating1,})"
   ]
  },
  {
   "cell_type": "code",
   "execution_count": 64,
   "id": "d308bdd4",
   "metadata": {},
   "outputs": [
    {
     "data": {
      "text/html": [
       "<div>\n",
       "<style scoped>\n",
       "    .dataframe tbody tr th:only-of-type {\n",
       "        vertical-align: middle;\n",
       "    }\n",
       "\n",
       "    .dataframe tbody tr th {\n",
       "        vertical-align: top;\n",
       "    }\n",
       "\n",
       "    .dataframe thead th {\n",
       "        text-align: right;\n",
       "    }\n",
       "</style>\n",
       "<table border=\"1\" class=\"dataframe\">\n",
       "  <thead>\n",
       "    <tr style=\"text-align: right;\">\n",
       "      <th></th>\n",
       "      <th>review_title</th>\n",
       "      <th>review_comments</th>\n",
       "      <th>rating</th>\n",
       "    </tr>\n",
       "  </thead>\n",
       "  <tbody>\n",
       "    <tr>\n",
       "      <th>0</th>\n",
       "      <td>Go For it....!!</td>\n",
       "      <td>- I am using this laptop for about 15 days and...</td>\n",
       "      <td>5.0 out of 5 stars</td>\n",
       "    </tr>\n",
       "    <tr>\n",
       "      <th>1</th>\n",
       "      <td>Faulty</td>\n",
       "      <td>I got a faulty product the charger wasn’t work...</td>\n",
       "      <td>1.0 out of 5 stars</td>\n",
       "    </tr>\n",
       "    <tr>\n",
       "      <th>2</th>\n",
       "      <td>Best For The Price</td>\n",
       "      <td>one of the best thermals out there intels new ...</td>\n",
       "      <td>5.0 out of 5 stars</td>\n",
       "    </tr>\n",
       "    <tr>\n",
       "      <th>3</th>\n",
       "      <td>Amazing performance</td>\n",
       "      <td>Good in everything</td>\n",
       "      <td>5.0 out of 5 stars</td>\n",
       "    </tr>\n",
       "    <tr>\n",
       "      <th>4</th>\n",
       "      <td>Best RTX Laptop under 70k</td>\n",
       "      <td>This is the best rtx 3050 lap u can get under ...</td>\n",
       "      <td>5.0 out of 5 stars</td>\n",
       "    </tr>\n",
       "    <tr>\n",
       "      <th>...</th>\n",
       "      <td>...</td>\n",
       "      <td>...</td>\n",
       "      <td>...</td>\n",
       "    </tr>\n",
       "    <tr>\n",
       "      <th>5663</th>\n",
       "      <td>More Range - More connected devices</td>\n",
       "      <td>This router is literally a striped down versio...</td>\n",
       "      <td>5.0 out of 5 stars</td>\n",
       "    </tr>\n",
       "    <tr>\n",
       "      <th>5664</th>\n",
       "      <td>Faulty Product</td>\n",
       "      <td>Product is ok. Brought the costlier one thinki...</td>\n",
       "      <td>1.0 out of 5 stars</td>\n",
       "    </tr>\n",
       "    <tr>\n",
       "      <th>5665</th>\n",
       "      <td>Does what a basic router should do but for hig...</td>\n",
       "      <td>This Review is in depth after a full year of u...</td>\n",
       "      <td>5.0 out of 5 stars</td>\n",
       "    </tr>\n",
       "    <tr>\n",
       "      <th>5666</th>\n",
       "      <td>Mostly router decreases speed from 50Mbps to 5...</td>\n",
       "      <td>I purchased this for my office use. Hence, you...</td>\n",
       "      <td>1.0 out of 5 stars</td>\n",
       "    </tr>\n",
       "    <tr>\n",
       "      <th>5667</th>\n",
       "      <td>Best for RJ 45 ISP connection</td>\n",
       "      <td>Good Router. Recommended buy if you wish to wi...</td>\n",
       "      <td>5.0 out of 5 stars</td>\n",
       "    </tr>\n",
       "  </tbody>\n",
       "</table>\n",
       "<p>5668 rows × 3 columns</p>\n",
       "</div>"
      ],
      "text/plain": [
       "                                           review_title  \\\n",
       "0                                       Go For it....!!   \n",
       "1                                                Faulty   \n",
       "2                                    Best For The Price   \n",
       "3                                   Amazing performance   \n",
       "4                             Best RTX Laptop under 70k   \n",
       "...                                                 ...   \n",
       "5663                More Range - More connected devices   \n",
       "5664                                     Faulty Product   \n",
       "5665  Does what a basic router should do but for hig...   \n",
       "5666  Mostly router decreases speed from 50Mbps to 5...   \n",
       "5667                      Best for RJ 45 ISP connection   \n",
       "\n",
       "                                        review_comments              rating  \n",
       "0     - I am using this laptop for about 15 days and...  5.0 out of 5 stars  \n",
       "1     I got a faulty product the charger wasn’t work...  1.0 out of 5 stars  \n",
       "2     one of the best thermals out there intels new ...  5.0 out of 5 stars  \n",
       "3                                    Good in everything  5.0 out of 5 stars  \n",
       "4     This is the best rtx 3050 lap u can get under ...  5.0 out of 5 stars  \n",
       "...                                                 ...                 ...  \n",
       "5663  This router is literally a striped down versio...  5.0 out of 5 stars  \n",
       "5664  Product is ok. Brought the costlier one thinki...  1.0 out of 5 stars  \n",
       "5665  This Review is in depth after a full year of u...  5.0 out of 5 stars  \n",
       "5666  I purchased this for my office use. Hence, you...  1.0 out of 5 stars  \n",
       "5667  Good Router. Recommended buy if you wish to wi...  5.0 out of 5 stars  \n",
       "\n",
       "[5668 rows x 3 columns]"
      ]
     },
     "execution_count": 64,
     "metadata": {},
     "output_type": "execute_result"
    }
   ],
   "source": [
    "df2"
   ]
  },
  {
   "cell_type": "code",
   "execution_count": 65,
   "id": "a76e70ac",
   "metadata": {},
   "outputs": [],
   "source": [
    "# merge two data frame\n",
    "df=pd.concat([df1,df2],ignore_index=False)"
   ]
  },
  {
   "cell_type": "code",
   "execution_count": 66,
   "id": "7813ee66",
   "metadata": {},
   "outputs": [
    {
     "data": {
      "text/html": [
       "<div>\n",
       "<style scoped>\n",
       "    .dataframe tbody tr th:only-of-type {\n",
       "        vertical-align: middle;\n",
       "    }\n",
       "\n",
       "    .dataframe tbody tr th {\n",
       "        vertical-align: top;\n",
       "    }\n",
       "\n",
       "    .dataframe thead th {\n",
       "        text-align: right;\n",
       "    }\n",
       "</style>\n",
       "<table border=\"1\" class=\"dataframe\">\n",
       "  <thead>\n",
       "    <tr style=\"text-align: right;\">\n",
       "      <th></th>\n",
       "      <th>review_title</th>\n",
       "      <th>review_comments</th>\n",
       "      <th>rating</th>\n",
       "    </tr>\n",
       "  </thead>\n",
       "  <tbody>\n",
       "    <tr>\n",
       "      <th>0</th>\n",
       "      <td>Very Good</td>\n",
       "      <td>Thanks again Flipkart team the wonderful deliv...</td>\n",
       "      <td>4</td>\n",
       "    </tr>\n",
       "    <tr>\n",
       "      <th>1</th>\n",
       "      <td>Terrific</td>\n",
       "      <td>Very nice mobile and battry is very extra powa...</td>\n",
       "      <td>5</td>\n",
       "    </tr>\n",
       "    <tr>\n",
       "      <th>2</th>\n",
       "      <td>Terrific purchase</td>\n",
       "      <td>Camera 4/5 if u able to set it properly\\nBatte...</td>\n",
       "      <td>5</td>\n",
       "    </tr>\n",
       "    <tr>\n",
       "      <th>3</th>\n",
       "      <td>Good choice</td>\n",
       "      <td>Positive sides :\\n1. Battery is very very powe...</td>\n",
       "      <td>4</td>\n",
       "    </tr>\n",
       "    <tr>\n",
       "      <th>4</th>\n",
       "      <td>Fantastic</td>\n",
       "      <td>Excellent!!\\nVery good mobile. I ordered it to...</td>\n",
       "      <td>5</td>\n",
       "    </tr>\n",
       "    <tr>\n",
       "      <th>...</th>\n",
       "      <td>...</td>\n",
       "      <td>...</td>\n",
       "      <td>...</td>\n",
       "    </tr>\n",
       "    <tr>\n",
       "      <th>5663</th>\n",
       "      <td>More Range - More connected devices</td>\n",
       "      <td>This router is literally a striped down versio...</td>\n",
       "      <td>5.0 out of 5 stars</td>\n",
       "    </tr>\n",
       "    <tr>\n",
       "      <th>5664</th>\n",
       "      <td>Faulty Product</td>\n",
       "      <td>Product is ok. Brought the costlier one thinki...</td>\n",
       "      <td>1.0 out of 5 stars</td>\n",
       "    </tr>\n",
       "    <tr>\n",
       "      <th>5665</th>\n",
       "      <td>Does what a basic router should do but for hig...</td>\n",
       "      <td>This Review is in depth after a full year of u...</td>\n",
       "      <td>5.0 out of 5 stars</td>\n",
       "    </tr>\n",
       "    <tr>\n",
       "      <th>5666</th>\n",
       "      <td>Mostly router decreases speed from 50Mbps to 5...</td>\n",
       "      <td>I purchased this for my office use. Hence, you...</td>\n",
       "      <td>1.0 out of 5 stars</td>\n",
       "    </tr>\n",
       "    <tr>\n",
       "      <th>5667</th>\n",
       "      <td>Best for RJ 45 ISP connection</td>\n",
       "      <td>Good Router. Recommended buy if you wish to wi...</td>\n",
       "      <td>5.0 out of 5 stars</td>\n",
       "    </tr>\n",
       "  </tbody>\n",
       "</table>\n",
       "<p>35541 rows × 3 columns</p>\n",
       "</div>"
      ],
      "text/plain": [
       "                                           review_title  \\\n",
       "0                                             Very Good   \n",
       "1                                              Terrific   \n",
       "2                                     Terrific purchase   \n",
       "3                                           Good choice   \n",
       "4                                             Fantastic   \n",
       "...                                                 ...   \n",
       "5663                More Range - More connected devices   \n",
       "5664                                     Faulty Product   \n",
       "5665  Does what a basic router should do but for hig...   \n",
       "5666  Mostly router decreases speed from 50Mbps to 5...   \n",
       "5667                      Best for RJ 45 ISP connection   \n",
       "\n",
       "                                        review_comments              rating  \n",
       "0     Thanks again Flipkart team the wonderful deliv...                   4  \n",
       "1     Very nice mobile and battry is very extra powa...                   5  \n",
       "2     Camera 4/5 if u able to set it properly\\nBatte...                   5  \n",
       "3     Positive sides :\\n1. Battery is very very powe...                   4  \n",
       "4     Excellent!!\\nVery good mobile. I ordered it to...                   5  \n",
       "...                                                 ...                 ...  \n",
       "5663  This router is literally a striped down versio...  5.0 out of 5 stars  \n",
       "5664  Product is ok. Brought the costlier one thinki...  1.0 out of 5 stars  \n",
       "5665  This Review is in depth after a full year of u...  5.0 out of 5 stars  \n",
       "5666  I purchased this for my office use. Hence, you...  1.0 out of 5 stars  \n",
       "5667  Good Router. Recommended buy if you wish to wi...  5.0 out of 5 stars  \n",
       "\n",
       "[35541 rows x 3 columns]"
      ]
     },
     "execution_count": 66,
     "metadata": {},
     "output_type": "execute_result"
    }
   ],
   "source": [
    "df"
   ]
  },
  {
   "cell_type": "code",
   "execution_count": 67,
   "id": "4a29466a",
   "metadata": {},
   "outputs": [],
   "source": [
    "# save csv format\n",
    "df.to_csv('review_comments.csv')"
   ]
  },
  {
   "cell_type": "code",
   "execution_count": 68,
   "id": "e7ba1b26",
   "metadata": {},
   "outputs": [],
   "source": [
    "# save to excel format\n",
    "df.to_excel('review_comments.xlsx')"
   ]
  },
  {
   "cell_type": "code",
   "execution_count": null,
   "id": "b1d55b4f",
   "metadata": {},
   "outputs": [],
   "source": []
  },
  {
   "cell_type": "code",
   "execution_count": null,
   "id": "af4fc70f",
   "metadata": {},
   "outputs": [],
   "source": []
  },
  {
   "cell_type": "code",
   "execution_count": null,
   "id": "57e22d80",
   "metadata": {},
   "outputs": [],
   "source": []
  },
  {
   "cell_type": "code",
   "execution_count": null,
   "id": "e7a313c4",
   "metadata": {},
   "outputs": [],
   "source": []
  },
  {
   "cell_type": "code",
   "execution_count": null,
   "id": "67fd7b7f",
   "metadata": {},
   "outputs": [],
   "source": []
  },
  {
   "cell_type": "code",
   "execution_count": null,
   "id": "e23f5617",
   "metadata": {},
   "outputs": [],
   "source": []
  },
  {
   "cell_type": "code",
   "execution_count": null,
   "id": "53ef06d4",
   "metadata": {},
   "outputs": [],
   "source": []
  }
 ],
 "metadata": {
  "kernelspec": {
   "display_name": "Python 3",
   "language": "python",
   "name": "python3"
  },
  "language_info": {
   "codemirror_mode": {
    "name": "ipython",
    "version": 3
   },
   "file_extension": ".py",
   "mimetype": "text/x-python",
   "name": "python",
   "nbconvert_exporter": "python",
   "pygments_lexer": "ipython3",
   "version": "3.8.8"
  }
 },
 "nbformat": 4,
 "nbformat_minor": 5
}
